{
 "cells": [
  {
   "cell_type": "code",
   "execution_count": 1,
   "id": "a01d3447",
   "metadata": {},
   "outputs": [
    {
     "name": "stdout",
     "output_type": "stream",
     "text": [
      "Number is : 1\n",
      "Number is : 2\n",
      "Number is : 3\n",
      "Number is : 4\n",
      "Number is : 5\n",
      "Number is : 6\n",
      "Number is : 7\n",
      "Number is : 8\n",
      "Number is : 9\n",
      "Number is : 10\n",
      "Number is : 11\n"
     ]
    }
   ],
   "source": [
    "#for loop\n",
    "\"\"\"\n",
    "range(int stop)\n",
    "range(int start,int stop)\n",
    "range(int start,int stop,int step)\n",
    "\"\"\"\n",
    "for i in range(11):\n",
    "    print(\"Number is :\",i+1)"
   ]
  },
  {
   "cell_type": "code",
   "execution_count": 2,
   "id": "6972d04a",
   "metadata": {},
   "outputs": [
    {
     "name": "stdout",
     "output_type": "stream",
     "text": [
      "Number is : 2\n",
      "Number is : 3\n",
      "Number is : 4\n",
      "Number is : 5\n",
      "Number is : 6\n",
      "Number is : 7\n",
      "Number is : 8\n"
     ]
    }
   ],
   "source": [
    "#for loop\n",
    "\"\"\"\n",
    "range(int stop)\n",
    "range(int start,int stop)\n",
    "range(int start,int stop,int step)\n",
    "\"\"\"\n",
    "for i in range(2,9):\n",
    "    print(\"Number is :\",i)"
   ]
  },
  {
   "cell_type": "code",
   "execution_count": 3,
   "id": "25bc8e3a",
   "metadata": {},
   "outputs": [
    {
     "name": "stdout",
     "output_type": "stream",
     "text": [
      "Number is : 3\n",
      "Number is : 5\n",
      "Number is : 7\n",
      "Number is : 9\n",
      "Number is : 11\n",
      "Number is : 13\n",
      "Number is : 15\n",
      "Number is : 17\n",
      "Number is : 19\n"
     ]
    }
   ],
   "source": [
    "#for loop\n",
    "\"\"\"\n",
    "range(int stop)\n",
    "range(int start,int stop)\n",
    "range(int start,int stop,int step)\n",
    "\"\"\"\n",
    "for i in range(3,20,2):\n",
    "    print(\"Number is :\",i)"
   ]
  },
  {
   "cell_type": "code",
   "execution_count": 4,
   "id": "4035029e",
   "metadata": {},
   "outputs": [
    {
     "name": "stdout",
     "output_type": "stream",
     "text": [
      "Number is : 20\n",
      "Number is : 18\n",
      "Number is : 16\n",
      "Number is : 14\n",
      "Number is : 12\n",
      "Number is : 10\n",
      "Number is : 8\n",
      "Number is : 6\n",
      "Number is : 4\n"
     ]
    }
   ],
   "source": [
    "#for loop\n",
    "\"\"\"\n",
    "range(int stop)\n",
    "range(int start,int stop)\n",
    "range(int start,int stop,int step)\n",
    "\"\"\"\n",
    "for i in range(20,3,-2):\n",
    "    print(\"Number is :\",i)"
   ]
  },
  {
   "cell_type": "code",
   "execution_count": 6,
   "id": "e07b47fc",
   "metadata": {},
   "outputs": [
    {
     "name": "stdout",
     "output_type": "stream",
     "text": [
      "Number is : 10\n",
      "Number is : 9\n",
      "Number is : 8\n",
      "Number is : 7\n",
      "Number is : 6\n",
      "Number is : 5\n",
      "Number is : 4\n"
     ]
    }
   ],
   "source": [
    "#for loop\n",
    "\"\"\"\n",
    "range(int stop)\n",
    "range(int start,int stop)\n",
    "range(int start,int stop,int step)\n",
    "\"\"\"\n",
    "for i in range(10,3,-1):\n",
    "    print(\"Number is :\",i)"
   ]
  },
  {
   "cell_type": "code",
   "execution_count": 7,
   "id": "44d9f6bb",
   "metadata": {},
   "outputs": [
    {
     "name": "stdout",
     "output_type": "stream",
     "text": [
      "1\n",
      "2\n",
      "3\n",
      "4\n",
      "5\n",
      "\n",
      "1\n",
      "2\n",
      "3\n",
      "4\n",
      "5\n",
      "\n"
     ]
    }
   ],
   "source": [
    "#nested for loop\n",
    "for i in range(1,3):\n",
    "    for j in range(1,6):\n",
    "        print(j)\n",
    "    print()"
   ]
  },
  {
   "cell_type": "code",
   "execution_count": 10,
   "id": "3ef3e65c",
   "metadata": {},
   "outputs": [
    {
     "name": "stdout",
     "output_type": "stream",
     "text": [
      "1 2 3 4 5 \n",
      "1 2 3 4 5 \n",
      "1 2 3 4 5 \n",
      "1 2 3 4 5 \n",
      "1 2 3 4 5 \n"
     ]
    }
   ],
   "source": [
    "#nested for loop\n",
    "for i in range(1,6):\n",
    "    for j in range(1,6):\n",
    "        print(j,end=\" \")\n",
    "    print()"
   ]
  },
  {
   "cell_type": "code",
   "execution_count": 9,
   "id": "c65d65c8",
   "metadata": {},
   "outputs": [
    {
     "name": "stdout",
     "output_type": "stream",
     "text": [
      "1 \n",
      "1 2 \n",
      "1 2 3 \n",
      "1 2 3 4 \n",
      "1 2 3 4 5 \n"
     ]
    }
   ],
   "source": [
    "#nested for loop\n",
    "for i in range(5):\n",
    "    for j in range(i+1):\n",
    "        print(j+1,end=\" \")\n",
    "    print()"
   ]
  },
  {
   "cell_type": "code",
   "execution_count": 12,
   "id": "9ab2480e",
   "metadata": {},
   "outputs": [
    {
     "name": "stdout",
     "output_type": "stream",
     "text": [
      "Enter Any Number:10\n",
      "1 \n",
      "1 2 \n",
      "1 2 3 \n",
      "1 2 3 4 \n",
      "1 2 3 4 5 \n",
      "1 2 3 4 5 6 \n",
      "1 2 3 4 5 6 7 \n",
      "1 2 3 4 5 6 7 8 \n",
      "1 2 3 4 5 6 7 8 9 \n",
      "1 2 3 4 5 6 7 8 9 10 \n"
     ]
    }
   ],
   "source": [
    "#nested for loop\n",
    "no = int(input(\"Enter Any Number:\"))\n",
    "for i in range(no):\n",
    "    for j in range(i+1):\n",
    "        print(j+1,end=\" \")\n",
    "    print()"
   ]
  },
  {
   "cell_type": "code",
   "execution_count": 13,
   "id": "40554e71",
   "metadata": {},
   "outputs": [
    {
     "name": "stdout",
     "output_type": "stream",
     "text": [
      "A \n",
      "A B \n",
      "A B C \n",
      "A B C D \n",
      "A B C D E \n"
     ]
    }
   ],
   "source": [
    "#nested for loop\n",
    "for i in range(5):\n",
    "    val = 65\n",
    "    for j in range(i+1):\n",
    "        c1 = chr(val)\n",
    "        #val = val+1 //comment\n",
    "        val+=1\n",
    "        print(c1,end=\" \")\n",
    "    print()"
   ]
  },
  {
   "cell_type": "code",
   "execution_count": 20,
   "id": "335f6329",
   "metadata": {},
   "outputs": [
    {
     "name": "stdout",
     "output_type": "stream",
     "text": [
      "Enter Any Number:7\n",
      "Factorial is : 5040\n"
     ]
    }
   ],
   "source": [
    "#factorial\n",
    "no = int(input(\"Enter Any Number:\"))\n",
    "fact = 1\n",
    "for i in range(no):\n",
    "    fact = fact*(i+1)\n",
    "print(\"Factorial is :\",fact)\n"
   ]
  },
  {
   "cell_type": "code",
   "execution_count": 22,
   "id": "a2258e4a",
   "metadata": {},
   "outputs": [
    {
     "name": "stdout",
     "output_type": "stream",
     "text": [
      "Enter Any Number:17\n",
      "17 * 1 = 17\n",
      "17 * 2 = 34\n",
      "17 * 3 = 51\n",
      "17 * 4 = 68\n",
      "17 * 5 = 85\n",
      "17 * 6 = 102\n",
      "17 * 7 = 119\n",
      "17 * 8 = 136\n",
      "17 * 9 = 153\n",
      "17 * 10 = 170\n"
     ]
    }
   ],
   "source": [
    "#multiplication table\n",
    "no = int(input(\"Enter Any Number:\"))\n",
    "for i in range(10):\n",
    "    print(no,\"*\",i+1,\"=\",no*(i+1))"
   ]
  },
  {
   "cell_type": "code",
   "execution_count": 23,
   "id": "e791eda9",
   "metadata": {},
   "outputs": [
    {
     "name": "stdout",
     "output_type": "stream",
     "text": [
      "# * # * # \n",
      "# * # * # \n",
      "# * # * # \n",
      "# * # * # \n",
      "# * # * # \n"
     ]
    }
   ],
   "source": [
    "#nested for loop\n",
    "for i in range(1,6):\n",
    "    for j in range(1,6):\n",
    "        if j%2==0:\n",
    "            print(\"*\",end=\" \")\n",
    "        else:\n",
    "            print(\"#\",end=\" \")\n",
    "    print()"
   ]
  },
  {
   "cell_type": "code",
   "execution_count": 24,
   "id": "48879725",
   "metadata": {},
   "outputs": [
    {
     "name": "stdout",
     "output_type": "stream",
     "text": [
      "1 1 1 1 1 \n",
      "2 2 2 2 \n",
      "3 3 3 \n",
      "4 4 \n",
      "5 \n"
     ]
    }
   ],
   "source": [
    "for i in range(5):\n",
    "    for j in range(5,i,-1):\n",
    "        print(i+1,end=\" \")\n",
    "    print()"
   ]
  }
 ],
 "metadata": {
  "kernelspec": {
   "display_name": "Python 3 (ipykernel)",
   "language": "python",
   "name": "python3"
  },
  "language_info": {
   "codemirror_mode": {
    "name": "ipython",
    "version": 3
   },
   "file_extension": ".py",
   "mimetype": "text/x-python",
   "name": "python",
   "nbconvert_exporter": "python",
   "pygments_lexer": "ipython3",
   "version": "3.10.0"
  }
 },
 "nbformat": 4,
 "nbformat_minor": 5
}
