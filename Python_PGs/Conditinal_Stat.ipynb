{
 "cells": [
  {
   "cell_type": "code",
   "execution_count": 4,
   "id": "6101db37",
   "metadata": {},
   "outputs": [
    {
     "name": "stdout",
     "output_type": "stream",
     "text": [
      "Enter Any Number:12\n"
     ]
    }
   ],
   "source": [
    "#simple if\n",
    "no = int(input(\"Enter Any Number:\"))\n",
    "if no == 10:\n",
    "    print(\"Number is 10\")"
   ]
  },
  {
   "cell_type": "code",
   "execution_count": 8,
   "id": "9b6b1dad",
   "metadata": {},
   "outputs": [
    {
     "name": "stdout",
     "output_type": "stream",
     "text": [
      "Enter Any Number:20\n",
      "Number is Not 10\n"
     ]
    }
   ],
   "source": [
    "#if...else\n",
    "no = int(input(\"Enter Any Number:\"))\n",
    "if no == 10:\n",
    "    print(\"Number is 10\")\n",
    "else:\n",
    "    print(\"Number is Not 10\")"
   ]
  },
  {
   "cell_type": "code",
   "execution_count": 9,
   "id": "b2b2c3cf",
   "metadata": {},
   "outputs": [
    {
     "name": "stdout",
     "output_type": "stream",
     "text": [
      "Enter Any Number:20\n",
      "Number is Even\n"
     ]
    }
   ],
   "source": [
    "#if...else\n",
    "no = int(input(\"Enter Any Number:\"))\n",
    "if no % 2 == 0:\n",
    "    print(\"Number is Even\")\n",
    "else:\n",
    "    print(\"Number is Odd\")"
   ]
  },
  {
   "cell_type": "code",
   "execution_count": 12,
   "id": "6ce98e5d",
   "metadata": {},
   "outputs": [
    {
     "name": "stdout",
     "output_type": "stream",
     "text": [
      "Enter Any Number:-10\n",
      "Number is Negative\n"
     ]
    }
   ],
   "source": [
    "#if...else\n",
    "no = int(input(\"Enter Any Number:\"))\n",
    "if no > 0:\n",
    "    print(\"Number is Positive\")\n",
    "else:\n",
    "    print(\"Number is Negative\")"
   ]
  },
  {
   "cell_type": "code",
   "execution_count": 14,
   "id": "99fab3c7",
   "metadata": {},
   "outputs": [
    {
     "name": "stdout",
     "output_type": "stream",
     "text": [
      "Enter Value of No1:29\n",
      "Enter Value of No2:13\n",
      "Enter Your Choice:2\n",
      "Subtraction of Two Number is: 16\n"
     ]
    }
   ],
   "source": [
    "#ladder if...else\n",
    "no1 = int(input(\"Enter Value of No1:\"))\n",
    "no2 = int(input(\"Enter Value of No2:\"))\n",
    "ch = int(input(\"Enter Your Choice:\"))\n",
    "if ch==1:\n",
    "    print(\"Sum of Two Number is:\",no1+no2)\n",
    "elif ch==2:\n",
    "    print(\"Subtraction of Two Number is:\",no1-no2)\n",
    "elif ch==3:\n",
    "    print(\"Multiplication of Two Number is:\",no1*no2)\n",
    "elif ch==4:\n",
    "    print(\"Division of Two Number is:\",no1-no2)\n",
    "else:\n",
    "    print(\"Plz Input 1 To 4\")"
   ]
  },
  {
   "cell_type": "code",
   "execution_count": 20,
   "id": "e568ff26",
   "metadata": {},
   "outputs": [
    {
     "name": "stdout",
     "output_type": "stream",
     "text": [
      "Enter Any Number:0\n",
      "Number is Zero\n"
     ]
    }
   ],
   "source": [
    "#Ladder if..else\n",
    "no = int(input(\"Enter Any Number:\"))\n",
    "if no==0:\n",
    "    print(\"Number is Zero\")\n",
    "elif no > 0:\n",
    "    print(\"Number is Positive\")\n",
    "else:\n",
    "    print(\"Number is Negetive\")"
   ]
  },
  {
   "cell_type": "code",
   "execution_count": 23,
   "id": "e558e75b",
   "metadata": {},
   "outputs": [
    {
     "name": "stdout",
     "output_type": "stream",
     "text": [
      "Enter Subject 1 : 40\n",
      "Enter Subject 2 : 33\n",
      "Enter Subject 3 : 30\n",
      "Enter Subject 4 : 50\n",
      "Enter Subject 5 : 67\n",
      "Total is : 220\n",
      "Percentage is : 44.0\n",
      "Pass\n"
     ]
    }
   ],
   "source": [
    "#Ladder if..else\n",
    "sub1 = int(input(\"Enter Subject 1 : \"))\n",
    "sub2 = int(input(\"Enter Subject 2 : \"))\n",
    "sub3 = int(input(\"Enter Subject 3 : \"))\n",
    "sub4 = int(input(\"Enter Subject 4 : \"))\n",
    "sub5 = int(input(\"Enter Subject 5 : \"))\n",
    "tot = sub1+sub2+sub3+sub4+sub5\n",
    "per = tot/5\n",
    "print(\"Total is :\",tot)\n",
    "print(\"Percentage is :\",per)\n",
    "if per>70:\n",
    "    print(\"Distition\")\n",
    "elif per>60:\n",
    "    print(\"1st Class\")\n",
    "elif per>50:\n",
    "    print(\"2nd Class\")\n",
    "elif per>40:\n",
    "    print(\"Pass\")\n",
    "else:\n",
    "    print(\"Fail\")"
   ]
  },
  {
   "cell_type": "code",
   "execution_count": 35,
   "id": "b1c25796",
   "metadata": {},
   "outputs": [
    {
     "name": "stdout",
     "output_type": "stream",
     "text": [
      "Enter Value of No1:3\n",
      "Enter Value of No2:4\n",
      "Enter Value of No3:4\n",
      "More than One Numbers are Max\n"
     ]
    }
   ],
   "source": [
    "#ladder if...else\n",
    "no1 = int(input(\"Enter Value of No1:\"))\n",
    "no2 = int(input(\"Enter Value of No2:\"))\n",
    "no3 = int(input(\"Enter Value of No3:\"))\n",
    "if no1>no2 and no1>no3:\n",
    "    print(\"No1 is Max\")\n",
    "elif no2>no3 and no2>no1:\n",
    "    print(\"No2 is Max\")\n",
    "elif no3>no1 and no3>no2:\n",
    "    print(\"No3 is Max\")\n",
    "else:\n",
    "    print(\"More than One Numbers are Max\")"
   ]
  },
  {
   "cell_type": "code",
   "execution_count": 36,
   "id": "05805916",
   "metadata": {},
   "outputs": [
    {
     "name": "stdout",
     "output_type": "stream",
     "text": [
      "Enter Any Number:20\n",
      "Number is Positive\n"
     ]
    }
   ],
   "source": [
    "#zero,positive, negetive//nested if..else\n",
    "no = int(input(\"Enter Any Number:\"))\n",
    "if(no==0):\n",
    "    print(\"Number is Zero\")\n",
    "else:\n",
    "    if(no>0):\n",
    "        print(\"Number is Positive\")\n",
    "    else:\n",
    "        print(\"Number is Negetive\")"
   ]
  },
  {
   "cell_type": "code",
   "execution_count": 43,
   "id": "152a6672",
   "metadata": {},
   "outputs": [
    {
     "name": "stdout",
     "output_type": "stream",
     "text": [
      "Enter Value of No1:20\n",
      "Enter Value of No2:30\n",
      "Enter Value of No3:20\n",
      "No2 is Max\n"
     ]
    }
   ],
   "source": [
    "#nested if..else\n",
    "no1 = int(input(\"Enter Value of No1:\"))\n",
    "no2 = int(input(\"Enter Value of No2:\"))\n",
    "no3 = int(input(\"Enter Value of No3:\"))\n",
    "if no1>no2:\n",
    "    if no1>no3:\n",
    "        print(\"No1 is Max\")\n",
    "    else:\n",
    "         print(\"No3 is Max\")\n",
    "else:\n",
    "    if no2>no3:\n",
    "        print(\"No2 is Max\")\n",
    "    else:\n",
    "         print(\"No3 is Max\")"
   ]
  },
  {
   "cell_type": "code",
   "execution_count": null,
   "id": "2c510c3f",
   "metadata": {},
   "outputs": [],
   "source": []
  }
 ],
 "metadata": {
  "kernelspec": {
   "display_name": "Python 3 (ipykernel)",
   "language": "python",
   "name": "python3"
  },
  "language_info": {
   "codemirror_mode": {
    "name": "ipython",
    "version": 3
   },
   "file_extension": ".py",
   "mimetype": "text/x-python",
   "name": "python",
   "nbconvert_exporter": "python",
   "pygments_lexer": "ipython3",
   "version": "3.10.0"
  }
 },
 "nbformat": 4,
 "nbformat_minor": 5
}
