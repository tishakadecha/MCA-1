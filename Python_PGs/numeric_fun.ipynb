{
 "cells": [
  {
   "cell_type": "code",
   "execution_count": 1,
   "id": "4bd4f9e8",
   "metadata": {},
   "outputs": [
    {
     "ename": "SyntaxError",
     "evalue": "'(' was never closed (2106540166.py, line 28)",
     "output_type": "error",
     "traceback": [
      "\u001b[1;36m  Cell \u001b[1;32mIn[1], line 28\u001b[1;36m\u001b[0m\n\u001b[1;33m    print(ord('s')\u001b[0m\n\u001b[1;37m         ^\u001b[0m\n\u001b[1;31mSyntaxError\u001b[0m\u001b[1;31m:\u001b[0m '(' was never closed\n"
     ]
    }
   ],
   "source": [
    "#numeric function\n",
    "print(abs(-5))\n",
    "print(bin(7))\n",
    "print(chr(65))\n",
    "print(chr(97))\n",
    "print(all({\" \",\" \",\" \"}))#boolean(intrebal argument means multiple argument)\n",
    "print(all({\"#\",\"-\",\"\"}))#boolean(intrebal argument means multiple argument)\n",
    "print(any((0,0,0)))#boolean(intrebal argument means multiple argument)\n",
    "print(any((1,1,1)))#boolean(intrebal argument means multiple argument)\n",
    "print(bool(0))\n",
    "print(bool(1))\n",
    "print(bool(0.5))\n",
    "print(float(2))\n",
    "print(int('7'))\n",
    "print(len({1,2,3,4,5}))\n",
    "print(max(10,0,40,30))\n",
    "print(min(30,20,60))\n",
    "print(max('hello','Hello'))\n",
    "print(min('hello','Hello'))\n",
    "print(max(True,False))\n",
    "print(min(True,False))\n",
    "print(oct(7))\n",
    "print(oct(8))\n",
    "print(hex(15))\n",
    "print(pow(5,4))\n",
    "print(sum([10,40,30,60]))#integer(intrebal argument means multiple argument)\n",
    "print(ord('S'))\n",
    "print(ord('s'))"
   ]
  }
 ],
 "metadata": {
  "kernelspec": {
   "display_name": "Python 3 (ipykernel)",
   "language": "python",
   "name": "python3"
  },
  "language_info": {
   "codemirror_mode": {
    "name": "ipython",
    "version": 3
   },
   "file_extension": ".py",
   "mimetype": "text/x-python",
   "name": "python",
   "nbconvert_exporter": "python",
   "pygments_lexer": "ipython3",
   "version": "3.10.0"
  }
 },
 "nbformat": 4,
 "nbformat_minor": 5
}
