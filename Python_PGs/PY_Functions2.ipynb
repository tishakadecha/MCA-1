{
 "cells": [
  {
   "cell_type": "code",
   "execution_count": 5,
   "id": "57c77925",
   "metadata": {},
   "outputs": [
    {
     "name": "stdout",
     "output_type": "stream",
     "text": [
      "Value Of X =  10\n",
      "Value Of Y =  20\n"
     ]
    }
   ],
   "source": [
    "#Default Arguments\n",
    "def s1(x,y=100):\n",
    "    print(\"Value Of X = \",x)\n",
    "    print(\"Value Of Y = \",y)\n",
    "s1(10,20)"
   ]
  },
  {
   "cell_type": "code",
   "execution_count": 13,
   "id": "9d34d7f5",
   "metadata": {},
   "outputs": [
    {
     "name": "stdout",
     "output_type": "stream",
     "text": [
      "Name = A B C\n",
      "Name = C B B\n",
      "Name = A C B\n"
     ]
    }
   ],
   "source": [
    "#Keyword Arguments 1\n",
    "def a1(*nm):\n",
    "    print(\"Name =\",nm[0],nm[1],nm[2])\n",
    "    print(\"Name =\",nm[2],nm[1],nm[1])# We can set index as per requirement\n",
    "    print(\"Name =\",nm[0],nm[2],nm[1])\n",
    "a1('A','B','C')"
   ]
  },
  {
   "cell_type": "code",
   "execution_count": 27,
   "id": "56419189",
   "metadata": {},
   "outputs": [
    {
     "name": "stdout",
     "output_type": "stream",
     "text": [
      "Emp Id = 101\n",
      "Emp Name = Abc\n",
      "Emp Name = 12000\n"
     ]
    }
   ],
   "source": [
    "#Positional & Keyword Arguments 2\n",
    "def details(id1,name,sal):\n",
    "    print(\"Emp Id =\",id1)\n",
    "    print(\"Emp Name =\",name)\n",
    "    print(\"Emp Name =\",sal)\n",
    "details(101,name='Abc',sal=12000)"
   ]
  },
  {
   "cell_type": "code",
   "execution_count": 30,
   "id": "731e8954",
   "metadata": {},
   "outputs": [
    {
     "name": "stdout",
     "output_type": "stream",
     "text": [
      "Before Function Call =  100\n",
      "Inside Function Call =  200\n",
      "After Function Call =  100\n"
     ]
    }
   ],
   "source": [
    "#Pass By Value\n",
    "#In Pass by Value The Original Value of Variable does not change..\n",
    "def a1(int):\n",
    "    int += 100\n",
    "    print(\"Inside Function Call = \",int)\n",
    "int = 100\n",
    "print(\"Before Function Call = \",int)\n",
    "a1(int)\n",
    "print(\"After Function Call = \",int)"
   ]
  },
  {
   "cell_type": "code",
   "execution_count": 32,
   "id": "d5bcc494",
   "metadata": {},
   "outputs": [
    {
     "name": "stdout",
     "output_type": "stream",
     "text": [
      "Before Function Call =  [10]\n",
      "Inside Function =  [10, '100']\n",
      "After Function Call =  [10, '100']\n"
     ]
    }
   ],
   "source": [
    "# Pass By Reference\n",
    "#In Pass by Reference The Original Value of Variable getting change..\n",
    "def a1(a):\n",
    "    a.append('100')\n",
    "    print(\"Inside Function = \",a)\n",
    "a=[10] \n",
    "print(\"Before Function Call = \",a)\n",
    "a1(a)\n",
    "print(\"After Function Call = \",a)"
   ]
  },
  {
   "cell_type": "code",
   "execution_count": null,
   "id": "5c761a45",
   "metadata": {},
   "outputs": [],
   "source": []
  }
 ],
 "metadata": {
  "kernelspec": {
   "display_name": "Python 3 (ipykernel)",
   "language": "python",
   "name": "python3"
  },
  "language_info": {
   "codemirror_mode": {
    "name": "ipython",
    "version": 3
   },
   "file_extension": ".py",
   "mimetype": "text/x-python",
   "name": "python",
   "nbconvert_exporter": "python",
   "pygments_lexer": "ipython3",
   "version": "3.10.0"
  }
 },
 "nbformat": 4,
 "nbformat_minor": 5
}
